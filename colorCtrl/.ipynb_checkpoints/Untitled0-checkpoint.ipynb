{
 "metadata": {
  "name": "",
  "signature": "sha256:d3b5252fecd0f5c0e1fc582c4bf8ead11b74fd4b85de4f89d2a2c198ca414136"
 },
 "nbformat": 3,
 "nbformat_minor": 0,
 "worksheets": [
  {
   "cells": [
    {
     "cell_type": "code",
     "collapsed": false,
     "input": [
      "import numpy\n",
      "import PIL\n",
      "import skimage.color\n",
      "import skimage.exposure\n",
      "import skimage.data\n",
      "import skimage.transform\n",
      "\n",
      "from pylab import *\n",
      "import matplotlib.pyplot as plt\n",
      "from mpl_toolkits.mplot3d import Axes3D\n"
     ],
     "language": "python",
     "metadata": {},
     "outputs": [],
     "prompt_number": 1
    },
    {
     "cell_type": "code",
     "collapsed": false,
     "input": [
      "imgFile = 'D:/Pictures/wallpaper/o1075054.jpg'\n",
      "img = skimage.data.imread(imgFile)\n"
     ],
     "language": "python",
     "metadata": {},
     "outputs": [],
     "prompt_number": 64
    },
    {
     "cell_type": "code",
     "collapsed": false,
     "input": [
      "imgHsv = skimage.color.convert_colorspace(img, 'RGB', 'HSV')\n",
      "imgHsv.shape"
     ],
     "language": "python",
     "metadata": {},
     "outputs": [
      {
       "metadata": {},
       "output_type": "pyout",
       "prompt_number": 65,
       "text": [
        "(1600L, 2560L, 3L)"
       ]
      }
     ],
     "prompt_number": 65
    },
    {
     "cell_type": "code",
     "collapsed": false,
     "input": [
      "figsize(10,6)\n",
      "#imshow(imgHsv[:,:,0], cmap=cm.gray)\n",
      "imshow(img)\n",
      "show()"
     ],
     "language": "python",
     "metadata": {},
     "outputs": [],
     "prompt_number": 66
    },
    {
     "cell_type": "code",
     "collapsed": false,
     "input": [
      "imgSize = img.shape\n",
      "smallImgSize = imgSize[0]/50, imgSize[1]/50, 3\n",
      "smallImg = skimage.transform.resize(img, smallImgSize)\n",
      "smallImg.shape\n",
      "smallHsvImg = skimage.color.convert_colorspace(smallImg, 'RGB', 'HSV')"
     ],
     "language": "python",
     "metadata": {},
     "outputs": [],
     "prompt_number": 67
    },
    {
     "cell_type": "code",
     "collapsed": false,
     "input": [
      "ax = plt.subplot(111, projection='3d')\n",
      "r = smallImg[:,:,0].flatten()\n",
      "g = smallImg[:,:,1].flatten()\n",
      "b = smallImg[:,:,2].flatten()\n",
      "h = smallHsvImg[:,:,0].flatten()\n",
      "s = smallHsvImg[:,:,1].flatten()\n",
      "v = smallHsvImg[:,:,2].flatten()\n",
      "ax.scatter(h, s, v, c=zip(r,g,b))\n",
      "ax.set_xlim([0.0,1.0])\n",
      "ax.set_xlabel('H')\n",
      "ax.set_ylim([0.0,1.0])\n",
      "ax.set_ylabel('S')\n",
      "ax.set_zlim([0.0,1.0])\n",
      "ax.set_zlabel('V')"
     ],
     "language": "python",
     "metadata": {},
     "outputs": [
      {
       "metadata": {},
       "output_type": "pyout",
       "prompt_number": 68,
       "text": [
        "<matplotlib.text.Text at 0x219af0b8>"
       ]
      }
     ],
     "prompt_number": 68
    },
    {
     "cell_type": "markdown",
     "metadata": {},
     "source": [
      "###Farb Histogramm"
     ]
    },
    {
     "cell_type": "code",
     "collapsed": true,
     "input": [
      "colorHist = skimage.exposure.histogram(imgHsv[:,:,0])\n",
      "\n",
      "figsize(16,8)\n",
      "bins, binPos = colorHist\n",
      "print bins.shape, binPos.shape\n",
      "binPos = 2* numpy.pi * binPos\n",
      "ax = plt.subplot(121, polar=True)\n",
      "c = plt.scatter(binPos, bins, c=binPos, s=64, cmap=plt.cm.hsv)\n",
      "#ax = plt.subplot(122)\n",
      "#c2 = plt.plot(binPos, bins)\n",
      "ax = plt.subplot(122)\n",
      "c = plt.scatter(binPos, bins, c=binPos, s=64, cmap=plt.cm.hsv)\n",
      "#c=plt.plot(binPos, bins)\n",
      "#c.set_alpha(0.75)\n",
      "plt.show()"
     ],
     "language": "python",
     "metadata": {},
     "outputs": [
      {
       "output_type": "stream",
       "stream": "stdout",
       "text": [
        "(256L,) (256L,)\n"
       ]
      }
     ],
     "prompt_number": 56
    },
    {
     "cell_type": "markdown",
     "metadata": {},
     "source": [
      "###MeanShift Clustering"
     ]
    },
    {
     "cell_type": "code",
     "collapsed": false,
     "input": [
      "from sklearn.cluster import MeanShift, estimate_bandwidth"
     ],
     "language": "python",
     "metadata": {},
     "outputs": [],
     "prompt_number": 57
    },
    {
     "cell_type": "code",
     "collapsed": false,
     "input": [
      "flatHsvImg = smallHsvImg.reshape((-1,3))\n",
      "bandwith = estimate_bandwidth(flatHsvImg, quantile=0.2, n_samples=10000)\n",
      "bandwith"
     ],
     "language": "python",
     "metadata": {},
     "outputs": [
      {
       "metadata": {},
       "output_type": "pyout",
       "prompt_number": 69,
       "text": [
        "0.19819502801692976"
       ]
      }
     ],
     "prompt_number": 69
    },
    {
     "cell_type": "code",
     "collapsed": false,
     "input": [
      "meanShift = MeanShift(bandwidth=bandwith, bin_seeding=True)\n",
      "meanShift.fit(flatHsvImg)\n",
      "labels = meanShift.labels_\n",
      "cluster_centers = meanShift.cluster_centers_\n",
      "cluster_centers"
     ],
     "language": "python",
     "metadata": {},
     "outputs": [
      {
       "metadata": {},
       "output_type": "pyout",
       "prompt_number": 70,
       "text": [
        "array([[ 0.60717692,  0.54280413,  0.18687515],\n",
        "       [ 0.59882994,  0.49927807,  0.66155652],\n",
        "       [ 0.        ,  0.        ,  0.0128316 ],\n",
        "       [ 0.18894249,  0.59181047,  0.01302063],\n",
        "       [ 0.08333333,  0.00179481,  0.99803922]])"
       ]
      }
     ],
     "prompt_number": 70
    },
    {
     "cell_type": "code",
     "collapsed": false,
     "input": [
      "dispColors = skimage.color.convert_colorspace(numpy.expand_dims(cluster_centers, axis=0), 'HSV', 'RGB')\n",
      "figsize(6,6)\n",
      "imshow(dispColors, interpolation='none')"
     ],
     "language": "python",
     "metadata": {},
     "outputs": [
      {
       "metadata": {},
       "output_type": "pyout",
       "prompt_number": 71,
       "text": [
        "<matplotlib.image.AxesImage at 0x22875048>"
       ]
      }
     ],
     "prompt_number": 71
    },
    {
     "cell_type": "code",
     "collapsed": false,
     "input": [],
     "language": "python",
     "metadata": {},
     "outputs": []
    }
   ],
   "metadata": {}
  }
 ]
}